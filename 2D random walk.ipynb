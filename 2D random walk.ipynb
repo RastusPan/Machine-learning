{
 "cells": [
  {
   "cell_type": "code",
   "execution_count": 10,
   "id": "c7382083",
   "metadata": {},
   "outputs": [
    {
     "name": "stdout",
     "output_type": "stream",
     "text": [
      "均值 <yn>: -0.0337\n",
      "方差 variance: 5.06516431\n"
     ]
    }
   ],
   "source": [
    "import numpy as np\n",
    "\n",
    "def random_walk_2d(N, n):\n",
    "    # 初始化粒子的位置\n",
    "    positions = np.zeros((n, 2))  # 二维数组，每行代表一个粒子的位置，初始都为(0, 0)\n",
    "    \n",
    "    # 进行N步随机行走\n",
    "    for _ in range(N):\n",
    "        # 随机生成每个粒子的步长和方向\n",
    "        steps = np.random.randint(0, 4, size=n)  # 0: 上, 1: 下, 2: 左, 3: 右\n",
    "        for i, step in enumerate(steps):\n",
    "            if step == 0:\n",
    "                positions[i][1] += 1  # 向上移动一步\n",
    "            elif step == 1:\n",
    "                positions[i][1] -= 1  # 向下移动一步\n",
    "            elif step == 2:\n",
    "                positions[i][0] -= 1  # 向左移动一步\n",
    "            else:\n",
    "                positions[i][0] += 1  # 向右移动一步\n",
    "    \n",
    "    return positions\n",
    "\n",
    "# 模拟参数\n",
    "N = 10  # 模拟步数\n",
    "n = 10000  # 粒子数量\n",
    "\n",
    "# 进行随机行走模拟\n",
    "positions = random_walk_2d(N, n)\n",
    "\n",
    "# 计算每个粒子的y坐标向量\n",
    "y = positions[:, 1]\n",
    "\n",
    "# 计算均值和方差\n",
    "mean_y = np.mean(y)\n",
    "variance_y = np.var(y)\n",
    "\n",
    "print(\"均值 <yn>:\", mean_y)\n",
    "print(\"方差 variance:\", variance_y)\n"
   ]
  },
  {
   "cell_type": "code",
   "execution_count": null,
   "id": "db6607e9",
   "metadata": {},
   "outputs": [],
   "source": []
  }
 ],
 "metadata": {
  "kernelspec": {
   "display_name": "Python 3 (ipykernel)",
   "language": "python",
   "name": "python3"
  },
  "language_info": {
   "codemirror_mode": {
    "name": "ipython",
    "version": 3
   },
   "file_extension": ".py",
   "mimetype": "text/x-python",
   "name": "python",
   "nbconvert_exporter": "python",
   "pygments_lexer": "ipython3",
   "version": "3.11.5"
  }
 },
 "nbformat": 4,
 "nbformat_minor": 5
}
